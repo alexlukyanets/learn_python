{
 "cells": [
  {
   "cell_type": "code",
   "execution_count": 5,
   "metadata": {
    "ExecuteTime": {
     "end_time": "2020-11-23T09:01:15.475536Z",
     "start_time": "2020-11-23T09:01:15.460535Z"
    }
   },
   "outputs": [
    {
     "name": "stdout",
     "output_type": "stream",
     "text": [
      "[1, 2, 3, [4, 5, 6, 7]]\n",
      "[1, 2, 3, [4, 5, 6, 7]]\n"
     ]
    }
   ],
   "source": [
    "lst1 = [1,2,3,[4,5,6]]\n",
    "\n",
    "copied_list = lst1.copy()\n",
    "copied_list[3].append(7)\n",
    "\n",
    "print(lst1)\n",
    "print(copied_list)\n",
    "#Метод copy производит негулобкое копирование. \n",
    "#Неглубокое копирование производиться таким образом, чтоб под список. Который содержиться в list1. Будет скопирован не \n",
    "# Как обьект полностью, а будет скопирована его ссылка. Соответтсвенно оба списка будут содержать ссылку на один и тот же обьект. \n",
    "#"
   ]
  },
  {
   "cell_type": "code",
   "execution_count": 7,
   "metadata": {
    "ExecuteTime": {
     "end_time": "2020-11-23T09:04:23.858320Z",
     "start_time": "2020-11-23T09:04:23.852320Z"
    }
   },
   "outputs": [],
   "source": [
    "lst1.append(8)"
   ]
  },
  {
   "cell_type": "code",
   "execution_count": 9,
   "metadata": {
    "ExecuteTime": {
     "end_time": "2020-11-23T09:04:46.993643Z",
     "start_time": "2020-11-23T09:04:46.986643Z"
    }
   },
   "outputs": [
    {
     "name": "stdout",
     "output_type": "stream",
     "text": [
      "[1, 2, 3, [4, 5, 6, 7], 8]\n",
      "[1, 2, 3, [4, 5, 6, 7]]\n"
     ]
    }
   ],
   "source": [
    "print(lst1)\n",
    "print(copied_list)\n",
    "# Проблемма глубокого копирования касается составных обьектов. \n",
    "# Обьектов которые содержат другие обьекты. При не глубоком копировании копируеться обьект верхнего уровня. \n",
    "# Во все внутринее обьекты мы копируем не вглубь, а копируем их ссылки. "
   ]
  },
  {
   "cell_type": "code",
   "execution_count": 10,
   "metadata": {
    "ExecuteTime": {
     "end_time": "2020-11-23T09:06:58.225637Z",
     "start_time": "2020-11-23T09:06:58.214637Z"
    }
   },
   "outputs": [],
   "source": [
    "import copy"
   ]
  },
  {
   "cell_type": "code",
   "execution_count": 13,
   "metadata": {
    "ExecuteTime": {
     "end_time": "2020-11-23T09:07:56.584067Z",
     "start_time": "2020-11-23T09:07:56.568467Z"
    }
   },
   "outputs": [],
   "source": [
    "shallow_copy = copy.copy(lst1)\n",
    "shallow_copy[3].append(8)"
   ]
  },
  {
   "cell_type": "code",
   "execution_count": 14,
   "metadata": {
    "ExecuteTime": {
     "end_time": "2020-11-23T09:08:10.558866Z",
     "start_time": "2020-11-23T09:08:10.551866Z"
    }
   },
   "outputs": [
    {
     "name": "stdout",
     "output_type": "stream",
     "text": [
      "[1, 2, 3, [4, 5, 6, 7, 8], 8]\n",
      "[1, 2, 3, [4, 5, 6, 7, 8], 8]\n"
     ]
    }
   ],
   "source": [
    "print(lst1)\n",
    "print(shallow_copy)"
   ]
  },
  {
   "cell_type": "code",
   "execution_count": 18,
   "metadata": {
    "ExecuteTime": {
     "end_time": "2020-11-23T09:10:44.700732Z",
     "start_time": "2020-11-23T09:10:44.690732Z"
    }
   },
   "outputs": [
    {
     "name": "stdout",
     "output_type": "stream",
     "text": [
      "[1, 2, 3, [4, 5, 6, 7, 8], 8]\n",
      "[1, 2, 3, [4, 5, 6, 7, 8, 9], 8]\n"
     ]
    }
   ],
   "source": [
    "deep_copy = copy.deepcopy(lst1)\n",
    "deep_copy[3].append(9)\n",
    "\n",
    "print(lst1)\n",
    "print(deep_copy)\n",
    "#Deeo copy копирует все рекурсивно.Он проходит в губь и копирует внутрее состояние каждого обьекта. "
   ]
  },
  {
   "cell_type": "code",
   "execution_count": 20,
   "metadata": {
    "ExecuteTime": {
     "end_time": "2020-11-23T09:11:47.510302Z",
     "start_time": "2020-11-23T09:11:47.501302Z"
    }
   },
   "outputs": [
    {
     "name": "stdout",
     "output_type": "stream",
     "text": [
      "[1, 2, 3, [4, 5, 6, 7, 8], 8]\n",
      "[1, 2, 3, [4, 5, 6, 7, 8, 9], 8]\n"
     ]
    }
   ],
   "source": [
    "deep_copy = copy.deepcopy(lst1)\n",
    "deep_copy[3].append(9)\n",
    "\n",
    "print(lst1)\n",
    "print(deep_copy)"
   ]
  },
  {
   "cell_type": "code",
   "execution_count": 22,
   "metadata": {
    "ExecuteTime": {
     "end_time": "2020-11-23T09:14:00.013366Z",
     "start_time": "2020-11-23T09:14:00.004366Z"
    }
   },
   "outputs": [],
   "source": [
    "class Point():\n",
    "    \n",
    "    def __init__(self,x,y):\n",
    "        self.x = x\n",
    "        self.y = y\n",
    "    \n",
    "    def __repr__(self):\n",
    "        return f'Point({self.x}, {self.y})'"
   ]
  },
  {
   "cell_type": "code",
   "execution_count": 23,
   "metadata": {
    "ExecuteTime": {
     "end_time": "2020-11-23T09:14:35.221529Z",
     "start_time": "2020-11-23T09:14:35.205929Z"
    }
   },
   "outputs": [],
   "source": [
    "a = Point(1,2)\n",
    "b = copy.copy(a)"
   ]
  },
  {
   "cell_type": "code",
   "execution_count": 24,
   "metadata": {
    "ExecuteTime": {
     "end_time": "2020-11-23T09:14:44.286537Z",
     "start_time": "2020-11-23T09:14:44.266537Z"
    }
   },
   "outputs": [],
   "source": [
    "a.x = 3"
   ]
  },
  {
   "cell_type": "code",
   "execution_count": 25,
   "metadata": {
    "ExecuteTime": {
     "end_time": "2020-11-23T09:15:15.807254Z",
     "start_time": "2020-11-23T09:15:15.799254Z"
    }
   },
   "outputs": [
    {
     "name": "stdout",
     "output_type": "stream",
     "text": [
      "Point(3, 2)\n",
      "Point(1, 2)\n"
     ]
    }
   ],
   "source": [
    "print(a)\n",
    "print(b)"
   ]
  },
  {
   "cell_type": "code",
   "execution_count": 52,
   "metadata": {
    "ExecuteTime": {
     "end_time": "2020-11-23T09:36:25.060831Z",
     "start_time": "2020-11-23T09:36:25.050830Z"
    }
   },
   "outputs": [],
   "source": [
    "class Line():\n",
    "    \n",
    "    def __init__(self, p1, p2):\n",
    "        self.p1 = p1\n",
    "        self.p2 = p2\n",
    "        \n",
    "    def __copy__(self):\n",
    "        # - получаем инф о текущем классе \n",
    "        cls = self.__class__\n",
    "\n",
    "        # Затем мы можем создать новый экземпляр \n",
    "        # new - метод конструировании аллкоации обьекта в памяти \n",
    "        result = cls.__new__(cls)\n",
    "        result.__dict__.update(self.__dict__)\n",
    "        \n",
    "        # Создали копию обьекта и сделали update его атрибутов\n",
    "        return result\n",
    "    \n",
    "    def __deepcopy__(self, memo):\n",
    "        # Бесконечное рекурсивное копирование произойдет. Если класс содержит сслыку того же типа. \n",
    "        # Если мы будем его копировать и на нём вызывать deepcopy, то наше копирование зациклиться и никогда не будет\n",
    "        # исполнено. memo - используется для того, чтоб обойти эту проблему. \n",
    "        cls = self.__class__\n",
    "        result = cls.__new__(cls)\n",
    "        memo[id(self)]=result\n",
    "        \n",
    "        #__deepcopy__ будет ориентироваться на этот обьект и не будет содержать рекурсию если обьект будет того же типа\n",
    "        \n",
    "        # Таким образом происходит рекурсивное копирование всех обьектов. В идеале по всей иерархии deepcopy должен отрабатывать корректно\n",
    "        \n",
    "        for k, v in self.__dict__.items():\n",
    "            setattr(result,k,copy.deepcopy(v,memo))\n",
    "        \n",
    "        return result"
   ]
  },
  {
   "cell_type": "code",
   "execution_count": 53,
   "metadata": {
    "ExecuteTime": {
     "end_time": "2020-11-23T09:36:25.278843Z",
     "start_time": "2020-11-23T09:36:25.271843Z"
    }
   },
   "outputs": [
    {
     "name": "stdout",
     "output_type": "stream",
     "text": [
      "Point(4, 2)\n",
      "Point(4, 2)\n"
     ]
    }
   ],
   "source": [
    "l1 = Line(a,b)\n",
    "l2 = copy.copy(l1)\n",
    "\n",
    "print(l1.p1)\n",
    "print(l2.p1)"
   ]
  },
  {
   "cell_type": "code",
   "execution_count": 54,
   "metadata": {
    "ExecuteTime": {
     "end_time": "2020-11-23T09:36:25.457854Z",
     "start_time": "2020-11-23T09:36:25.448853Z"
    }
   },
   "outputs": [
    {
     "name": "stdout",
     "output_type": "stream",
     "text": [
      "Point(4, 2)\n",
      "Point(4, 2)\n"
     ]
    }
   ],
   "source": [
    "l1.p1.x = 4\n",
    "\n",
    "print(l1.p1)\n",
    "print(l2.p1)"
   ]
  },
  {
   "cell_type": "code",
   "execution_count": 55,
   "metadata": {
    "ExecuteTime": {
     "end_time": "2020-11-23T09:36:25.996884Z",
     "start_time": "2020-11-23T09:36:25.993884Z"
    }
   },
   "outputs": [],
   "source": [
    "#point - это ссылочный тип. И при копировании мы скопировали ссылку на point\n",
    "#и через неё мы имеем доступ к тому, же самому x. "
   ]
  },
  {
   "cell_type": "code",
   "execution_count": 56,
   "metadata": {
    "ExecuteTime": {
     "end_time": "2020-11-23T09:36:26.184895Z",
     "start_time": "2020-11-23T09:36:26.174895Z"
    }
   },
   "outputs": [
    {
     "name": "stdout",
     "output_type": "stream",
     "text": [
      "Point(4, 2)\n",
      "Point(4, 2)\n",
      "Point(6, 2)\n",
      "Point(4, 2)\n"
     ]
    }
   ],
   "source": [
    "l1 = Line(a,b)\n",
    "l2 = copy.deepcopy(l1)\n",
    "\n",
    "print(l1.p1)\n",
    "print(l2.p1)\n",
    "\n",
    "l1.p1.x = 6\n",
    "\n",
    "print(l1.p1)\n",
    "print(l2.p1)\n",
    "# Модифицируется одна инстанция потому, что совершено глубокое копирование. "
   ]
  },
  {
   "cell_type": "code",
   "execution_count": null,
   "metadata": {},
   "outputs": [],
   "source": []
  },
  {
   "cell_type": "code",
   "execution_count": null,
   "metadata": {},
   "outputs": [],
   "source": []
  }
 ],
 "metadata": {
  "kernelspec": {
   "display_name": "Python 3",
   "language": "python",
   "name": "python3"
  },
  "language_info": {
   "codemirror_mode": {
    "name": "ipython",
    "version": 3
   },
   "file_extension": ".py",
   "mimetype": "text/x-python",
   "name": "python",
   "nbconvert_exporter": "python",
   "pygments_lexer": "ipython3",
   "version": "3.7.3"
  }
 },
 "nbformat": 4,
 "nbformat_minor": 2
}
