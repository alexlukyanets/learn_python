{
 "cells": [
  {
   "cell_type": "markdown",
   "metadata": {},
   "source": [
    "В python есть тип с помощью которого можно создавать специализированные классы\n",
    "От слова enum. \n",
    "Перечисление поддерживаются многими языками программирования. \n",
    "\n",
    "Если есть список взаимосвязанных именованных констант. \n",
    "То можно обьявить такой enumeration с помощью которого можно писать такой понятный код. \n"
   ]
  },
  {
   "cell_type": "code",
   "execution_count": 34,
   "metadata": {
    "ExecuteTime": {
     "end_time": "2020-11-23T11:29:44.608778Z",
     "start_time": "2020-11-23T11:29:44.604778Z"
    }
   },
   "outputs": [],
   "source": [
    "from enum import Enum"
   ]
  },
  {
   "cell_type": "code",
   "execution_count": 35,
   "metadata": {
    "ExecuteTime": {
     "end_time": "2020-11-23T11:29:45.687840Z",
     "start_time": "2020-11-23T11:29:45.678840Z"
    }
   },
   "outputs": [],
   "source": [
    "class TrafficLight(Enum):\n",
    "    RED = 1\n",
    "    YELLOW = 2\n",
    "    GREEN = 3\n",
    "    "
   ]
  },
  {
   "cell_type": "code",
   "execution_count": 36,
   "metadata": {
    "ExecuteTime": {
     "end_time": "2020-11-23T11:29:46.071862Z",
     "start_time": "2020-11-23T11:29:45.896852Z"
    }
   },
   "outputs": [
    {
     "data": {
      "text/plain": [
       "<TrafficLight.RED: 1>"
      ]
     },
     "execution_count": 36,
     "metadata": {},
     "output_type": "execute_result"
    }
   ],
   "source": [
    "TrafficLight.RED"
   ]
  },
  {
   "cell_type": "code",
   "execution_count": 37,
   "metadata": {
    "ExecuteTime": {
     "end_time": "2020-11-23T11:29:46.248872Z",
     "start_time": "2020-11-23T11:29:46.082863Z"
    }
   },
   "outputs": [
    {
     "name": "stdout",
     "output_type": "stream",
     "text": [
      "TrafficLight.RED\n"
     ]
    }
   ],
   "source": [
    "print(TrafficLight.RED)"
   ]
  },
  {
   "cell_type": "code",
   "execution_count": 38,
   "metadata": {
    "ExecuteTime": {
     "end_time": "2020-11-23T11:29:46.418882Z",
     "start_time": "2020-11-23T11:29:46.302875Z"
    }
   },
   "outputs": [
    {
     "name": "stdout",
     "output_type": "stream",
     "text": [
      "RED\n",
      "1\n"
     ]
    }
   ],
   "source": [
    "print(TrafficLight.RED.name)\n",
    "print(TrafficLight.RED.value)"
   ]
  },
  {
   "cell_type": "code",
   "execution_count": 39,
   "metadata": {
    "ExecuteTime": {
     "end_time": "2020-11-23T11:29:46.544889Z",
     "start_time": "2020-11-23T11:29:46.518888Z"
    }
   },
   "outputs": [
    {
     "name": "stdout",
     "output_type": "stream",
     "text": [
      "TrafficLight.RED\n",
      "TrafficLight.YELLOW\n",
      "TrafficLight.GREEN\n"
     ]
    }
   ],
   "source": [
    "for c in TrafficLight:\n",
    "    print(c)"
   ]
  },
  {
   "cell_type": "code",
   "execution_count": 40,
   "metadata": {
    "ExecuteTime": {
     "end_time": "2020-11-23T11:29:46.742900Z",
     "start_time": "2020-11-23T11:29:46.736900Z"
    }
   },
   "outputs": [
    {
     "data": {
      "text/plain": [
       "<TrafficLight.RED: 1>"
      ]
     },
     "execution_count": 40,
     "metadata": {},
     "output_type": "execute_result"
    }
   ],
   "source": [
    "TrafficLight(1)"
   ]
  },
  {
   "cell_type": "code",
   "execution_count": 41,
   "metadata": {
    "ExecuteTime": {
     "end_time": "2020-11-23T11:29:47.036917Z",
     "start_time": "2020-11-23T11:29:47.023916Z"
    }
   },
   "outputs": [
    {
     "data": {
      "text/plain": [
       "<TrafficLight.RED: 1>"
      ]
     },
     "execution_count": 41,
     "metadata": {},
     "output_type": "execute_result"
    }
   ],
   "source": [
    "TrafficLight['RED']"
   ]
  },
  {
   "cell_type": "code",
   "execution_count": 42,
   "metadata": {
    "ExecuteTime": {
     "end_time": "2020-11-23T11:29:47.540946Z",
     "start_time": "2020-11-23T11:29:47.527945Z"
    }
   },
   "outputs": [
    {
     "name": "stdout",
     "output_type": "stream",
     "text": [
      "True\n",
      "False\n"
     ]
    }
   ],
   "source": [
    "print(TrafficLight.RED == TrafficLight.RED)\n",
    "print(TrafficLight.RED == TrafficLight.GREEN)"
   ]
  },
  {
   "cell_type": "code",
   "execution_count": 43,
   "metadata": {
    "ExecuteTime": {
     "end_time": "2020-11-23T11:29:47.750958Z",
     "start_time": "2020-11-23T11:29:47.745958Z"
    }
   },
   "outputs": [],
   "source": [
    "from enum import IntEnum\n",
    "\n",
    "class Priority(IntEnum):\n",
    "    LOW = 1\n",
    "    NORMAL = 2\n",
    "    HIGH = 3"
   ]
  },
  {
   "cell_type": "code",
   "execution_count": 44,
   "metadata": {
    "ExecuteTime": {
     "end_time": "2020-11-23T11:29:48.033974Z",
     "start_time": "2020-11-23T11:29:47.927968Z"
    }
   },
   "outputs": [
    {
     "data": {
      "text/plain": [
       "True"
      ]
     },
     "execution_count": 44,
     "metadata": {},
     "output_type": "execute_result"
    }
   ],
   "source": [
    "Priority.LOW < Priority.NORMAL"
   ]
  },
  {
   "cell_type": "code",
   "execution_count": 45,
   "metadata": {
    "ExecuteTime": {
     "end_time": "2020-11-23T11:29:48.181983Z",
     "start_time": "2020-11-23T11:29:48.148981Z"
    }
   },
   "outputs": [],
   "source": [
    "from enum import IntFlag\n",
    "\n",
    "class Color(IntFlag):\n",
    "    RED = 1\n",
    "    GREEN = 2\n",
    "    BLUE = 4"
   ]
  },
  {
   "cell_type": "code",
   "execution_count": 46,
   "metadata": {
    "ExecuteTime": {
     "end_time": "2020-11-23T11:29:48.377994Z",
     "start_time": "2020-11-23T11:29:48.370994Z"
    }
   },
   "outputs": [],
   "source": [
    "combination = Color.RED | Color.GREEN"
   ]
  },
  {
   "cell_type": "code",
   "execution_count": 47,
   "metadata": {
    "ExecuteTime": {
     "end_time": "2020-11-23T11:29:48.642009Z",
     "start_time": "2020-11-23T11:29:48.628008Z"
    }
   },
   "outputs": [
    {
     "data": {
      "text/plain": [
       "<Color.GREEN|RED: 3>"
      ]
     },
     "execution_count": 47,
     "metadata": {},
     "output_type": "execute_result"
    }
   ],
   "source": [
    "combination"
   ]
  },
  {
   "cell_type": "code",
   "execution_count": 48,
   "metadata": {
    "ExecuteTime": {
     "end_time": "2020-11-23T11:29:48.925025Z",
     "start_time": "2020-11-23T11:29:48.849021Z"
    }
   },
   "outputs": [
    {
     "data": {
      "text/plain": [
       "True"
      ]
     },
     "execution_count": 48,
     "metadata": {},
     "output_type": "execute_result"
    }
   ],
   "source": [
    "Color.RED in combination"
   ]
  },
  {
   "cell_type": "code",
   "execution_count": 49,
   "metadata": {
    "ExecuteTime": {
     "end_time": "2020-11-23T11:29:49.058033Z",
     "start_time": "2020-11-23T11:29:49.034031Z"
    }
   },
   "outputs": [],
   "source": [
    "class Planet(Enum):\n",
    "    MERCURY = (3.303e+23, 2.4497e6)\n",
    "    EARTH = (5.976e+24, 6.37814e6)\n",
    "    JUPITER = (1.9e+27, 7.1492e7)\n",
    "    \n",
    "    def __init__(self, mass, radius):\n",
    "        self.mass = mass\n",
    "        self.radius = radius\n",
    "    \n",
    "    @property\n",
    "    def surface_gravity(self):\n",
    "        G = 6.67300E-11\n",
    "        return G * self.mass /(self.radius * self.radius)"
   ]
  },
  {
   "cell_type": "code",
   "execution_count": 50,
   "metadata": {
    "ExecuteTime": {
     "end_time": "2020-11-23T11:29:49.263045Z",
     "start_time": "2020-11-23T11:29:49.257044Z"
    }
   },
   "outputs": [
    {
     "data": {
      "text/plain": [
       "(5.976e+24, 6378140.0)"
      ]
     },
     "execution_count": 50,
     "metadata": {},
     "output_type": "execute_result"
    }
   ],
   "source": [
    "Planet.EARTH.value"
   ]
  },
  {
   "cell_type": "code",
   "execution_count": 51,
   "metadata": {
    "ExecuteTime": {
     "end_time": "2020-11-23T11:29:49.454055Z",
     "start_time": "2020-11-23T11:29:49.445055Z"
    }
   },
   "outputs": [
    {
     "data": {
      "text/plain": [
       "9.802652743337129"
      ]
     },
     "execution_count": 51,
     "metadata": {},
     "output_type": "execute_result"
    }
   ],
   "source": [
    "Planet.EARTH.surface_gravity"
   ]
  },
  {
   "cell_type": "code",
   "execution_count": null,
   "metadata": {},
   "outputs": [],
   "source": []
  },
  {
   "cell_type": "code",
   "execution_count": null,
   "metadata": {},
   "outputs": [],
   "source": []
  }
 ],
 "metadata": {
  "kernelspec": {
   "display_name": "Python 3",
   "language": "python",
   "name": "python3"
  },
  "language_info": {
   "codemirror_mode": {
    "name": "ipython",
    "version": 3
   },
   "file_extension": ".py",
   "mimetype": "text/x-python",
   "name": "python",
   "nbconvert_exporter": "python",
   "pygments_lexer": "ipython3",
   "version": "3.7.3"
  }
 },
 "nbformat": 4,
 "nbformat_minor": 2
}
