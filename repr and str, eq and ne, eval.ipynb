{
 "cells": [
  {
   "cell_type": "markdown",
   "metadata": {},
   "source": [
    "# dodnder or magic \n",
    "__str__ - возвращает строковую репрезентацию обьекта. Удобную для чтения члеовеком. \n",
    "Кроме __str__ есть repr\n",
    "\n",
    "Разница _str__ и repr\n"
   ]
  },
  {
   "cell_type": "code",
   "execution_count": 1,
   "metadata": {
    "ExecuteTime": {
     "end_time": "2020-11-23T08:30:54.666035Z",
     "start_time": "2020-11-23T08:30:54.646035Z"
    }
   },
   "outputs": [],
   "source": [
    "lst=[1,2,3]"
   ]
  },
  {
   "cell_type": "code",
   "execution_count": 2,
   "metadata": {
    "ExecuteTime": {
     "end_time": "2020-11-23T08:31:02.840276Z",
     "start_time": "2020-11-23T08:31:02.827275Z"
    }
   },
   "outputs": [
    {
     "data": {
      "text/plain": [
       "'[1, 2, 3]'"
      ]
     },
     "execution_count": 2,
     "metadata": {},
     "output_type": "execute_result"
    }
   ],
   "source": [
    "repr(lst)"
   ]
  },
  {
   "cell_type": "code",
   "execution_count": 3,
   "metadata": {
    "ExecuteTime": {
     "end_time": "2020-11-23T08:31:15.091976Z",
     "start_time": "2020-11-23T08:31:15.083976Z"
    }
   },
   "outputs": [
    {
     "name": "stdout",
     "output_type": "stream",
     "text": [
      "[1, 2, 3]\n"
     ]
    }
   ],
   "source": [
    "print(lst)"
   ]
  },
  {
   "cell_type": "code",
   "execution_count": 4,
   "metadata": {
    "ExecuteTime": {
     "end_time": "2020-11-23T08:32:21.221239Z",
     "start_time": "2020-11-23T08:32:21.218239Z"
    }
   },
   "outputs": [],
   "source": [
    "#Метод print вызывает str. Чтоб получить строчку которую необходимо вывести\n",
    "#А repr вызывается repr. "
   ]
  },
  {
   "cell_type": "code",
   "execution_count": 39,
   "metadata": {
    "ExecuteTime": {
     "end_time": "2020-11-23T08:57:27.244742Z",
     "start_time": "2020-11-23T08:57:27.239742Z"
    }
   },
   "outputs": [
    {
     "data": {
      "text/plain": [
       "True"
      ]
     },
     "execution_count": 39,
     "metadata": {},
     "output_type": "execute_result"
    }
   ],
   "source": [
    "eval(repr(lst)) == lst\n",
    "# eval Позволяет исполнить любой кусок python code in str"
   ]
  },
  {
   "cell_type": "code",
   "execution_count": 6,
   "metadata": {
    "ExecuteTime": {
     "end_time": "2020-11-23T08:33:08.715660Z",
     "start_time": "2020-11-23T08:33:08.711660Z"
    }
   },
   "outputs": [
    {
     "name": "stdout",
     "output_type": "stream",
     "text": [
      "1\n"
     ]
    }
   ],
   "source": [
    "#eval('print(1)'), Метод который преобразовывает из строки python code\n",
    "# repr в отличии от str возвращает repredusable string\n",
    "# которую можно исполнить как код и получить текущее состояние обьекта\n",
    "\n",
    "# Если класс определяет метод repr, а не str. То в таком случае если на таком обьекте будет вызвал str. То этот вызов\n",
    "# переодресуется в repr. И вместо str execute repr. "
   ]
  },
  {
   "cell_type": "code",
   "execution_count": 7,
   "metadata": {
    "ExecuteTime": {
     "end_time": "2020-11-23T08:39:26.369047Z",
     "start_time": "2020-11-23T08:39:26.365047Z"
    }
   },
   "outputs": [],
   "source": [
    "from datetime import datetime\n",
    "\n",
    "dt = datetime.now()"
   ]
  },
  {
   "cell_type": "code",
   "execution_count": 8,
   "metadata": {
    "ExecuteTime": {
     "end_time": "2020-11-23T08:39:32.688408Z",
     "start_time": "2020-11-23T08:39:32.684408Z"
    }
   },
   "outputs": [
    {
     "data": {
      "text/plain": [
       "'datetime.datetime(2020, 11, 23, 10, 39, 26, 367047)'"
      ]
     },
     "execution_count": 8,
     "metadata": {},
     "output_type": "execute_result"
    }
   ],
   "source": [
    "repr(dt)# Склонен описывать обьект. Выводит тип и скобочик. "
   ]
  },
  {
   "cell_type": "code",
   "execution_count": 9,
   "metadata": {
    "ExecuteTime": {
     "end_time": "2020-11-23T08:39:36.826645Z",
     "start_time": "2020-11-23T08:39:36.822645Z"
    }
   },
   "outputs": [
    {
     "name": "stdout",
     "output_type": "stream",
     "text": [
      "2020-11-23 10:39:26.367047\n"
     ]
    }
   ],
   "source": [
    "print(dt)"
   ]
  },
  {
   "cell_type": "code",
   "execution_count": 10,
   "metadata": {
    "ExecuteTime": {
     "end_time": "2020-11-23T08:43:17.534958Z",
     "start_time": "2020-11-23T08:43:17.528957Z"
    }
   },
   "outputs": [],
   "source": [
    "class Character():\n",
    "    \n",
    "    def __init__(self,race, damage=100):\n",
    "        self.race = race\n",
    "        self.damage = damage\n",
    "    \n",
    "    def __repr__(self):\n",
    "        return f\"Character('{self.race}', {self.damage})\"\n",
    "    \n",
    "    def __str__(self):\n",
    "        return f'{self.race} with damage = {self.damage}'"
   ]
  },
  {
   "cell_type": "code",
   "execution_count": 12,
   "metadata": {
    "ExecuteTime": {
     "end_time": "2020-11-23T08:44:00.102351Z",
     "start_time": "2020-11-23T08:44:00.096350Z"
    }
   },
   "outputs": [
    {
     "data": {
      "text/plain": [
       "Character('Elf', 100)"
      ]
     },
     "execution_count": 12,
     "metadata": {},
     "output_type": "execute_result"
    }
   ],
   "source": [
    "c = Character('Elf')\n",
    "c"
   ]
  },
  {
   "cell_type": "code",
   "execution_count": 14,
   "metadata": {
    "ExecuteTime": {
     "end_time": "2020-11-23T08:44:28.204942Z",
     "start_time": "2020-11-23T08:44:28.200942Z"
    }
   },
   "outputs": [
    {
     "name": "stdout",
     "output_type": "stream",
     "text": [
      "Elf with damage = 100\n"
     ]
    }
   ],
   "source": [
    "print(c)"
   ]
  },
  {
   "cell_type": "code",
   "execution_count": 17,
   "metadata": {
    "ExecuteTime": {
     "end_time": "2020-11-23T08:45:05.254751Z",
     "start_time": "2020-11-23T08:45:05.249751Z"
    }
   },
   "outputs": [
    {
     "data": {
      "text/plain": [
       "__main__.Character"
      ]
     },
     "execution_count": 17,
     "metadata": {},
     "output_type": "execute_result"
    }
   ],
   "source": [
    "d = eval(repr(c))\n",
    "type(d)"
   ]
  },
  {
   "cell_type": "code",
   "execution_count": 18,
   "metadata": {
    "ExecuteTime": {
     "end_time": "2020-11-23T08:45:11.316098Z",
     "start_time": "2020-11-23T08:45:11.312098Z"
    }
   },
   "outputs": [
    {
     "name": "stdout",
     "output_type": "stream",
     "text": [
      "Elf with damage = 100\n"
     ]
    }
   ],
   "source": [
    "print(d)"
   ]
  },
  {
   "cell_type": "code",
   "execution_count": 20,
   "metadata": {
    "ExecuteTime": {
     "end_time": "2020-11-23T08:46:36.255397Z",
     "start_time": "2020-11-23T08:46:36.250396Z"
    }
   },
   "outputs": [
    {
     "data": {
      "text/plain": [
       "False"
      ]
     },
     "execution_count": 20,
     "metadata": {},
     "output_type": "execute_result"
    }
   ],
   "source": [
    "c == d# Это две разные инстанции, а сравнение по умолчанию будет сравнивать ссылки\n",
    "# Если ссылки не равны, то и обьекты не равны\n",
    "# == - не сравнивает внутренее состояние обьектов"
   ]
  },
  {
   "cell_type": "code",
   "execution_count": 35,
   "metadata": {
    "ExecuteTime": {
     "end_time": "2020-11-23T08:52:46.543955Z",
     "start_time": "2020-11-23T08:52:46.536955Z"
    }
   },
   "outputs": [],
   "source": [
    "class Character():\n",
    "    \n",
    "    def __init__(self,race, damage=100):\n",
    "        self.race = race\n",
    "        self.damage = damage\n",
    "    \n",
    "    def __repr__(self):\n",
    "        return f\"Character('{self.race}', {self.damage})\"\n",
    "    \n",
    "    def __str__(self):\n",
    "        return f'{self.race} with damage = {self.damage}'\n",
    "    \n",
    "    def __eq__(self, other):\n",
    "        if isinstance(other, Character):\n",
    "            return self.race == other.race and self.damage == other.damage\n",
    "        return False"
   ]
  },
  {
   "cell_type": "code",
   "execution_count": 36,
   "metadata": {
    "ExecuteTime": {
     "end_time": "2020-11-23T08:52:46.688964Z",
     "start_time": "2020-11-23T08:52:46.683963Z"
    }
   },
   "outputs": [
    {
     "data": {
      "text/plain": [
       "Character('Elf', 100)"
      ]
     },
     "execution_count": 36,
     "metadata": {},
     "output_type": "execute_result"
    }
   ],
   "source": [
    "c = Character('Elf')\n",
    "# Стандартная реализация repr. Который выводит тип обьекта и в какой ячейке этот тип начинается. \n",
    "\n",
    "c"
   ]
  },
  {
   "cell_type": "code",
   "execution_count": 37,
   "metadata": {
    "ExecuteTime": {
     "end_time": "2020-11-23T08:52:46.875974Z",
     "start_time": "2020-11-23T08:52:46.867974Z"
    }
   },
   "outputs": [
    {
     "data": {
      "text/plain": [
       "__main__.Character"
      ]
     },
     "execution_count": 37,
     "metadata": {},
     "output_type": "execute_result"
    }
   ],
   "source": [
    "d = eval(repr(c))\n",
    "type(d)"
   ]
  },
  {
   "cell_type": "code",
   "execution_count": 38,
   "metadata": {
    "ExecuteTime": {
     "end_time": "2020-11-23T08:52:47.025983Z",
     "start_time": "2020-11-23T08:52:47.020983Z"
    }
   },
   "outputs": [
    {
     "data": {
      "text/plain": [
       "True"
      ]
     },
     "execution_count": 38,
     "metadata": {},
     "output_type": "execute_result"
    }
   ],
   "source": [
    "c == d"
   ]
  },
  {
   "cell_type": "markdown",
   "metadata": {},
   "source": [
    "Во втором python, если мы определили метод eq, которое отвечает за сравнение двух обьектов. Мы тогда были обязаны. И второй метод ne.(no equal). В python два если опредлен опрератор сравннения, eq, значит и должен быть определен оператор не равно. Есть ==. А есть !=. \n"
   ]
  },
  {
   "cell_type": "code",
   "execution_count": null,
   "metadata": {},
   "outputs": [],
   "source": []
  }
 ],
 "metadata": {
  "kernelspec": {
   "display_name": "Python 3",
   "language": "python",
   "name": "python3"
  },
  "language_info": {
   "codemirror_mode": {
    "name": "ipython",
    "version": 3
   },
   "file_extension": ".py",
   "mimetype": "text/x-python",
   "name": "python",
   "nbconvert_exporter": "python",
   "pygments_lexer": "ipython3",
   "version": "3.7.3"
  }
 },
 "nbformat": 4,
 "nbformat_minor": 2
}
